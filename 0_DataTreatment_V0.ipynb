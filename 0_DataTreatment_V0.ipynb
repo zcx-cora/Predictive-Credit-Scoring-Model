{
 "cells": [
  {
   "cell_type": "code",
   "execution_count": 72,
   "metadata": {},
   "outputs": [
    {
     "name": "stderr",
     "output_type": "stream",
     "text": [
      "/var/folders/xg/6886p3rj5kb44k2smttjctf80000gn/T/ipykernel_56459/2703093388.py:7: DtypeWarning: Columns (0,19,49,59,118,129,130,131,134,135,136,139,145,146,147) have mixed types. Specify dtype option on import or set low_memory=False.\n",
      "  df = pd.read_csv(file_path)\n"
     ]
    },
    {
     "name": "stdout",
     "output_type": "stream",
     "text": [
      "Shape: (2260701, 151)\n",
      "Columns: ['id', 'member_id', 'loan_amnt', 'funded_amnt', 'funded_amnt_inv', 'term', 'int_rate', 'installment', 'grade', 'sub_grade', 'emp_title', 'emp_length', 'home_ownership', 'annual_inc', 'verification_status', 'issue_d', 'loan_status', 'pymnt_plan', 'url', 'desc', 'purpose', 'title', 'zip_code', 'addr_state', 'dti', 'delinq_2yrs', 'earliest_cr_line', 'fico_range_low', 'fico_range_high', 'inq_last_6mths', 'mths_since_last_delinq', 'mths_since_last_record', 'open_acc', 'pub_rec', 'revol_bal', 'revol_util', 'total_acc', 'initial_list_status', 'out_prncp', 'out_prncp_inv', 'total_pymnt', 'total_pymnt_inv', 'total_rec_prncp', 'total_rec_int', 'total_rec_late_fee', 'recoveries', 'collection_recovery_fee', 'last_pymnt_d', 'last_pymnt_amnt', 'next_pymnt_d', 'last_credit_pull_d', 'last_fico_range_high', 'last_fico_range_low', 'collections_12_mths_ex_med', 'mths_since_last_major_derog', 'policy_code', 'application_type', 'annual_inc_joint', 'dti_joint', 'verification_status_joint', 'acc_now_delinq', 'tot_coll_amt', 'tot_cur_bal', 'open_acc_6m', 'open_act_il', 'open_il_12m', 'open_il_24m', 'mths_since_rcnt_il', 'total_bal_il', 'il_util', 'open_rv_12m', 'open_rv_24m', 'max_bal_bc', 'all_util', 'total_rev_hi_lim', 'inq_fi', 'total_cu_tl', 'inq_last_12m', 'acc_open_past_24mths', 'avg_cur_bal', 'bc_open_to_buy', 'bc_util', 'chargeoff_within_12_mths', 'delinq_amnt', 'mo_sin_old_il_acct', 'mo_sin_old_rev_tl_op', 'mo_sin_rcnt_rev_tl_op', 'mo_sin_rcnt_tl', 'mort_acc', 'mths_since_recent_bc', 'mths_since_recent_bc_dlq', 'mths_since_recent_inq', 'mths_since_recent_revol_delinq', 'num_accts_ever_120_pd', 'num_actv_bc_tl', 'num_actv_rev_tl', 'num_bc_sats', 'num_bc_tl', 'num_il_tl', 'num_op_rev_tl', 'num_rev_accts', 'num_rev_tl_bal_gt_0', 'num_sats', 'num_tl_120dpd_2m', 'num_tl_30dpd', 'num_tl_90g_dpd_24m', 'num_tl_op_past_12m', 'pct_tl_nvr_dlq', 'percent_bc_gt_75', 'pub_rec_bankruptcies', 'tax_liens', 'tot_hi_cred_lim', 'total_bal_ex_mort', 'total_bc_limit', 'total_il_high_credit_limit', 'revol_bal_joint', 'sec_app_fico_range_low', 'sec_app_fico_range_high', 'sec_app_earliest_cr_line', 'sec_app_inq_last_6mths', 'sec_app_mort_acc', 'sec_app_open_acc', 'sec_app_revol_util', 'sec_app_open_act_il', 'sec_app_num_rev_accts', 'sec_app_chargeoff_within_12_mths', 'sec_app_collections_12_mths_ex_med', 'sec_app_mths_since_last_major_derog', 'hardship_flag', 'hardship_type', 'hardship_reason', 'hardship_status', 'deferral_term', 'hardship_amount', 'hardship_start_date', 'hardship_end_date', 'payment_plan_start_date', 'hardship_length', 'hardship_dpd', 'hardship_loan_status', 'orig_projected_additional_accrued_interest', 'hardship_payoff_balance_amount', 'hardship_last_payment_amount', 'disbursement_method', 'debt_settlement_flag', 'debt_settlement_flag_date', 'settlement_status', 'settlement_date', 'settlement_amount', 'settlement_percentage', 'settlement_term']\n",
      "         id  member_id  loan_amnt  funded_amnt  funded_amnt_inv        term  \\\n",
      "0  68407277        NaN     3600.0       3600.0           3600.0   36 months   \n",
      "1  68355089        NaN    24700.0      24700.0          24700.0   36 months   \n",
      "2  68341763        NaN    20000.0      20000.0          20000.0   60 months   \n",
      "3  66310712        NaN    35000.0      35000.0          35000.0   60 months   \n",
      "4  68476807        NaN    10400.0      10400.0          10400.0   60 months   \n",
      "\n",
      "   int_rate  installment grade sub_grade  ... hardship_payoff_balance_amount  \\\n",
      "0     13.99       123.03     C        C4  ...                            NaN   \n",
      "1     11.99       820.28     C        C1  ...                            NaN   \n",
      "2     10.78       432.66     B        B4  ...                            NaN   \n",
      "3     14.85       829.90     C        C5  ...                            NaN   \n",
      "4     22.45       289.91     F        F1  ...                            NaN   \n",
      "\n",
      "  hardship_last_payment_amount disbursement_method  debt_settlement_flag  \\\n",
      "0                          NaN                Cash                     N   \n",
      "1                          NaN                Cash                     N   \n",
      "2                          NaN                Cash                     N   \n",
      "3                          NaN                Cash                     N   \n",
      "4                          NaN                Cash                     N   \n",
      "\n",
      "  debt_settlement_flag_date settlement_status settlement_date  \\\n",
      "0                       NaN               NaN             NaN   \n",
      "1                       NaN               NaN             NaN   \n",
      "2                       NaN               NaN             NaN   \n",
      "3                       NaN               NaN             NaN   \n",
      "4                       NaN               NaN             NaN   \n",
      "\n",
      "  settlement_amount settlement_percentage settlement_term  \n",
      "0               NaN                   NaN             NaN  \n",
      "1               NaN                   NaN             NaN  \n",
      "2               NaN                   NaN             NaN  \n",
      "3               NaN                   NaN             NaN  \n",
      "4               NaN                   NaN             NaN  \n",
      "\n",
      "[5 rows x 151 columns]\n"
     ]
    }
   ],
   "source": [
    "\n",
    "import pandas as pd\n",
    "import numpy as np\n",
    "import matplotlib.pyplot as plt\n",
    "import seaborn as sns\n",
    "\n",
    "file_path = 'data/raw_data.csv'  \n",
    "df = pd.read_csv(file_path)\n",
    "print(\"Shape:\", df.shape)\n",
    "print(\"Columns:\", df.columns.tolist())\n",
    "print(df.head())"
   ]
  },
  {
   "cell_type": "code",
   "execution_count": 73,
   "metadata": {},
   "outputs": [
    {
     "name": "stdout",
     "output_type": "stream",
     "text": [
      "member_id                                     2260701\n",
      "orig_projected_additional_accrued_interest    2252050\n",
      "hardship_end_date                             2249784\n",
      "hardship_start_date                           2249784\n",
      "hardship_type                                 2249784\n",
      "                                               ...   \n",
      "policy_code                                        33\n",
      "revol_bal                                          33\n",
      "fico_range_high                                    33\n",
      "fico_range_low                                     33\n",
      "id                                                  0\n",
      "Length: 151, dtype: int64\n",
      "Columns after dropping those with >50% missing values: (2260701, 107)\n"
     ]
    }
   ],
   "source": [
    "print(df.isnull().sum().sort_values(ascending=False))\n",
    "\n",
    "# data cleaning\n",
    "# drop duplicates\n",
    "df = df.drop_duplicates()\n",
    "\n",
    "#delete columns with more than 50% missing values\n",
    "threshold = len(df) * 0.5\n",
    "df_cleaned = df.dropna(thresh=threshold, axis=1)\n",
    "\n",
    "print(\"Columns after dropping those with >50% missing values:\", df_cleaned.shape)\n"
   ]
  },
  {
   "cell_type": "code",
   "execution_count": 74,
   "metadata": {},
   "outputs": [
    {
     "name": "stdout",
     "output_type": "stream",
     "text": [
      "将被删除的列： ['id', 'url', 'title', 'zip_code', 'policy_code', 'application_type', 'hardship_flag', 'debt_settlement_flag', 'tot_hi_cred_lim', 'total_bal_ex_mort', 'total_bc_limit', 'total_il_high_credit_limit', 'emp_title', 'tax_liens']\n",
      "shape (2260701, 93)\n"
     ]
    }
   ],
   "source": [
    "# drop unnecessary columns\n",
    "columns_to_drop = ['id', 'url', 'title', 'zip_code', 'policy_code', 'application_type', 'hardship_flag', 'debt_settlement_flag']\n",
    "columns_to_drop.extend([\"desc\", \"mths_since_last_delinq\", \"mths_since_last_record\", \"next_pymnt_d\", \"tot_hi_cred_lim\"])\n",
    "columns_to_drop.extend([\"mths_since_last_major_derog\", \"total_bal_ex_mort\", \"total_bc_limit\", \"total_il_high_credit_limit\"])\n",
    "columns_to_drop.extend([\"member_id\", \"emp_title\", \"tax_liens\"])\n",
    "existing_to_drop = [col for col in columns_to_drop if col in df_cleaned.columns]\n",
    "print(\"将被删除的列：\", existing_to_drop)\n",
    "\n",
    "df_cleaned = df_cleaned.drop(columns=existing_to_drop)\n",
    "print(\"shape\", df_cleaned.shape)\n"
   ]
  },
  {
   "cell_type": "code",
   "execution_count": 75,
   "metadata": {},
   "outputs": [
    {
     "name": "stderr",
     "output_type": "stream",
     "text": [
      "/var/folders/xg/6886p3rj5kb44k2smttjctf80000gn/T/ipykernel_56459/2374708608.py:5: UserWarning: Could not infer format, so each element will be parsed individually, falling back to `dateutil`. To ensure parsing is consistent and as-expected, please specify a format.\n",
      "  df_cleaned[col] = pd.to_datetime(df_cleaned[col], errors='coerce')\n",
      "/var/folders/xg/6886p3rj5kb44k2smttjctf80000gn/T/ipykernel_56459/2374708608.py:5: UserWarning: Could not infer format, so each element will be parsed individually, falling back to `dateutil`. To ensure parsing is consistent and as-expected, please specify a format.\n",
      "  df_cleaned[col] = pd.to_datetime(df_cleaned[col], errors='coerce')\n",
      "/var/folders/xg/6886p3rj5kb44k2smttjctf80000gn/T/ipykernel_56459/2374708608.py:5: UserWarning: Could not infer format, so each element will be parsed individually, falling back to `dateutil`. To ensure parsing is consistent and as-expected, please specify a format.\n",
      "  df_cleaned[col] = pd.to_datetime(df_cleaned[col], errors='coerce')\n"
     ]
    },
    {
     "name": "stdout",
     "output_type": "stream",
     "text": [
      "Date columns processed. Remaining columns: ['loan_amnt', 'funded_amnt', 'funded_amnt_inv', 'term', 'int_rate', 'installment', 'grade', 'sub_grade', 'emp_length', 'home_ownership', 'annual_inc', 'verification_status', 'loan_status', 'pymnt_plan', 'purpose', 'addr_state', 'dti', 'delinq_2yrs', 'earliest_cr_line', 'fico_range_low', 'fico_range_high', 'inq_last_6mths', 'open_acc', 'pub_rec', 'revol_bal', 'revol_util', 'total_acc', 'initial_list_status', 'out_prncp', 'out_prncp_inv', 'total_pymnt', 'total_pymnt_inv', 'total_rec_prncp', 'total_rec_int', 'total_rec_late_fee', 'recoveries', 'collection_recovery_fee', 'last_pymnt_amnt', 'last_fico_range_high', 'last_fico_range_low', 'collections_12_mths_ex_med', 'acc_now_delinq', 'tot_coll_amt', 'tot_cur_bal', 'open_acc_6m', 'open_act_il', 'open_il_12m', 'open_il_24m', 'mths_since_rcnt_il', 'total_bal_il', 'il_util', 'open_rv_12m', 'open_rv_24m', 'max_bal_bc', 'all_util', 'total_rev_hi_lim', 'inq_fi', 'total_cu_tl', 'inq_last_12m', 'acc_open_past_24mths', 'avg_cur_bal', 'bc_open_to_buy', 'bc_util', 'chargeoff_within_12_mths', 'delinq_amnt', 'mo_sin_old_il_acct', 'mo_sin_old_rev_tl_op', 'mo_sin_rcnt_rev_tl_op', 'mo_sin_rcnt_tl', 'mort_acc', 'mths_since_recent_bc', 'mths_since_recent_inq', 'num_accts_ever_120_pd', 'num_actv_bc_tl', 'num_actv_rev_tl', 'num_bc_sats', 'num_bc_tl', 'num_il_tl', 'num_op_rev_tl', 'num_rev_accts', 'num_rev_tl_bal_gt_0', 'num_sats', 'num_tl_120dpd_2m', 'num_tl_30dpd', 'num_tl_90g_dpd_24m', 'num_tl_op_past_12m', 'pct_tl_nvr_dlq', 'percent_bc_gt_75', 'pub_rec_bankruptcies', 'disbursement_method', 'issue_d_year', 'issue_d_month', 'last_pymnt_d_year', 'last_pymnt_d_month', 'last_credit_pull_d_year', 'last_credit_pull_d_month']\n",
      "Shape after date processing: (2260701, 96)\n"
     ]
    }
   ],
   "source": [
    "# deal with date columns\n",
    "date_columns = ['issue_d', 'last_pymnt_d', 'last_credit_pull_d']\n",
    "for col in date_columns:\n",
    "    if col in df_cleaned.columns:\n",
    "        df_cleaned[col] = pd.to_datetime(df_cleaned[col], errors='coerce')\n",
    "        df_cleaned[col+'_year'] = df_cleaned[col].dt.year\n",
    "        df_cleaned[col+'_month'] = df_cleaned[col].dt.month\n",
    "        df_cleaned = df_cleaned.drop(columns=[col])\n",
    "print(\"Date columns processed. Remaining columns:\", df_cleaned.columns.tolist())\n",
    "print(\"Shape after date processing:\", df_cleaned.shape)"
   ]
  },
  {
   "cell_type": "code",
   "execution_count": 76,
   "metadata": {},
   "outputs": [
    {
     "name": "stdout",
     "output_type": "stream",
     "text": [
      "Number of rows having all values as null:\n",
      "33\n",
      "Number of columns having all values as null:\n",
      "0\n"
     ]
    }
   ],
   "source": [
    "print('Number of rows having all values as null:')\n",
    "print(df_cleaned.isnull().all(axis=1).sum())\n",
    "\n",
    "print('Number of columns having all values as null:')\n",
    "print(df_cleaned.isnull().all(axis=0).sum())"
   ]
  },
  {
   "cell_type": "code",
   "execution_count": 77,
   "metadata": {},
   "outputs": [],
   "source": [
    "#  default based on 'loan_status'\n",
    "# “Charged Off”、“Default”、“Late” = 1\n",
    "def create_target(status):\n",
    "    if status in ['Charged Off', 'Default', 'Late (31-120 days)', 'Does not meet the credit policy. Status:Charged Off']:\n",
    "        return 1\n",
    "    elif status in ['Fully Paid', 'Does not meet the credit policy. Status:Fully Paid']:\n",
    "        return 0\n",
    "    else:\n",
    "        return np.nan  \n",
    "\n",
    "\n",
    "df_cleaned['default'] = df_cleaned['loan_status'].apply(create_target)\n",
    "df_cleaned = df_cleaned.dropna(subset=['default'])\n",
    "\n",
    "\n"
   ]
  },
  {
   "cell_type": "code",
   "execution_count": 78,
   "metadata": {},
   "outputs": [
    {
     "name": "stdout",
     "output_type": "stream",
     "text": [
      "Shape after dropping rows with all null values: (1369566, 97)\n"
     ]
    }
   ],
   "source": [
    "#drop rows with all null values\n",
    "df_cleaned = df_cleaned.dropna(how='all')\n",
    "print(\"Shape after dropping rows with all null values:\", df_cleaned.shape)"
   ]
  },
  {
   "cell_type": "code",
   "execution_count": 79,
   "metadata": {},
   "outputs": [
    {
     "name": "stdout",
     "output_type": "stream",
     "text": [
      "Categorical columns: ['term', 'grade', 'sub_grade', 'emp_length', 'home_ownership', 'verification_status', 'loan_status', 'pymnt_plan', 'purpose', 'addr_state', 'earliest_cr_line', 'initial_list_status', 'disbursement_method']\n"
     ]
    }
   ],
   "source": [
    "categorical_cols = df_cleaned.select_dtypes(include=['object']).columns.tolist()\n",
    "print(\"Categorical columns:\", categorical_cols)"
   ]
  },
  {
   "cell_type": "code",
   "execution_count": 80,
   "metadata": {},
   "outputs": [
    {
     "name": "stderr",
     "output_type": "stream",
     "text": [
      "<>:2: SyntaxWarning: invalid escape sequence '\\d'\n",
      "<>:2: SyntaxWarning: invalid escape sequence '\\d'\n",
      "/var/folders/xg/6886p3rj5kb44k2smttjctf80000gn/T/ipykernel_56459/3441514332.py:2: SyntaxWarning: invalid escape sequence '\\d'\n",
      "  df_cleaned['term'] = df_cleaned['term'].str.extract('(\\d+)').astype(float)\n"
     ]
    }
   ],
   "source": [
    "# term: \"36 months\" -> 36，\"60 months\" -> 60\n",
    "df_cleaned['term'] = df_cleaned['term'].str.extract('(\\d+)').astype(float)\n",
    "\n",
    "# emp_length: （< 1 year -> 0, 10+ years -> 10）\n",
    "def convert_emp_length(x):\n",
    "    if pd.isnull(x):\n",
    "        return np.nan\n",
    "    if '<' in x:\n",
    "        return 0\n",
    "    if '10+' in x:\n",
    "        return 10\n",
    "    return int(x.strip().split()[0])\n",
    "\n",
    "df_cleaned['emp_length'] = df_cleaned['emp_length'].apply(convert_emp_length)"
   ]
  },
  {
   "cell_type": "code",
   "execution_count": 82,
   "metadata": {},
   "outputs": [],
   "source": [
    "# label encoding for categorical columns\n",
    "\n",
    "from sklearn.preprocessing import OneHotEncoder\n",
    "OneHot_encoder = OneHotEncoder()\n",
    "for col in categorical_cols:\n",
    "    if col in df_cleaned.columns:\n",
    "        df_cleaned[col] = df_cleaned[col].astype(str)  \n",
    "        df_cleaned[col] = OneHot_encoder.fit_transform(df_cleaned[[col]]).toarray()\n",
    "\n"
   ]
  },
  {
   "cell_type": "code",
   "execution_count": 83,
   "metadata": {},
   "outputs": [],
   "source": [
    "# deal with missing values ,# using median for numerical columns\n",
    "from sklearn.impute import SimpleImputer\n",
    "num_cols = df_cleaned.select_dtypes(include=[np.number]).columns.tolist()\n",
    "imputer = SimpleImputer(strategy='median')\n",
    "df_cleaned[num_cols] = imputer.fit_transform(df_cleaned[num_cols])"
   ]
  },
  {
   "cell_type": "code",
   "execution_count": null,
   "metadata": {},
   "outputs": [],
   "source": []
  },
  {
   "cell_type": "code",
   "execution_count": 84,
   "metadata": {},
   "outputs": [
    {
     "name": "stdout",
     "output_type": "stream",
     "text": [
      "Shape of the data frame : (1369566, 97)\n",
      "===================================================\n",
      "<class 'pandas.core.frame.DataFrame'>\n",
      "Index: 1369566 entries, 0 to 2260697\n",
      "Data columns (total 97 columns):\n",
      " #   Column                      Non-Null Count    Dtype  \n",
      "---  ------                      --------------    -----  \n",
      " 0   loan_amnt                   1369566 non-null  float64\n",
      " 1   funded_amnt                 1369566 non-null  float64\n",
      " 2   funded_amnt_inv             1369566 non-null  float64\n",
      " 3   term                        1369566 non-null  float64\n",
      " 4   int_rate                    1369566 non-null  float64\n",
      " 5   installment                 1369566 non-null  float64\n",
      " 6   grade                       1369566 non-null  float64\n",
      " 7   sub_grade                   1369566 non-null  float64\n",
      " 8   emp_length                  1369566 non-null  float64\n",
      " 9   home_ownership              1369566 non-null  float64\n",
      " 10  annual_inc                  1369566 non-null  float64\n",
      " 11  verification_status         1369566 non-null  float64\n",
      " 12  loan_status                 1369566 non-null  float64\n",
      " 13  pymnt_plan                  1369566 non-null  float64\n",
      " 14  purpose                     1369566 non-null  float64\n",
      " 15  addr_state                  1369566 non-null  float64\n",
      " 16  dti                         1369566 non-null  float64\n",
      " 17  delinq_2yrs                 1369566 non-null  float64\n",
      " 18  earliest_cr_line            1369566 non-null  float64\n",
      " 19  fico_range_low              1369566 non-null  float64\n",
      " 20  fico_range_high             1369566 non-null  float64\n",
      " 21  inq_last_6mths              1369566 non-null  float64\n",
      " 22  open_acc                    1369566 non-null  float64\n",
      " 23  pub_rec                     1369566 non-null  float64\n",
      " 24  revol_bal                   1369566 non-null  float64\n",
      " 25  revol_util                  1369566 non-null  float64\n",
      " 26  total_acc                   1369566 non-null  float64\n",
      " 27  initial_list_status         1369566 non-null  float64\n",
      " 28  out_prncp                   1369566 non-null  float64\n",
      " 29  out_prncp_inv               1369566 non-null  float64\n",
      " 30  total_pymnt                 1369566 non-null  float64\n",
      " 31  total_pymnt_inv             1369566 non-null  float64\n",
      " 32  total_rec_prncp             1369566 non-null  float64\n",
      " 33  total_rec_int               1369566 non-null  float64\n",
      " 34  total_rec_late_fee          1369566 non-null  float64\n",
      " 35  recoveries                  1369566 non-null  float64\n",
      " 36  collection_recovery_fee     1369566 non-null  float64\n",
      " 37  last_pymnt_amnt             1369566 non-null  float64\n",
      " 38  last_fico_range_high        1369566 non-null  float64\n",
      " 39  last_fico_range_low         1369566 non-null  float64\n",
      " 40  collections_12_mths_ex_med  1369566 non-null  float64\n",
      " 41  acc_now_delinq              1369566 non-null  float64\n",
      " 42  tot_coll_amt                1369566 non-null  float64\n",
      " 43  tot_cur_bal                 1369566 non-null  float64\n",
      " 44  open_acc_6m                 1369566 non-null  float64\n",
      " 45  open_act_il                 1369566 non-null  float64\n",
      " 46  open_il_12m                 1369566 non-null  float64\n",
      " 47  open_il_24m                 1369566 non-null  float64\n",
      " 48  mths_since_rcnt_il          1369566 non-null  float64\n",
      " 49  total_bal_il                1369566 non-null  float64\n",
      " 50  il_util                     1369566 non-null  float64\n",
      " 51  open_rv_12m                 1369566 non-null  float64\n",
      " 52  open_rv_24m                 1369566 non-null  float64\n",
      " 53  max_bal_bc                  1369566 non-null  float64\n",
      " 54  all_util                    1369566 non-null  float64\n",
      " 55  total_rev_hi_lim            1369566 non-null  float64\n",
      " 56  inq_fi                      1369566 non-null  float64\n",
      " 57  total_cu_tl                 1369566 non-null  float64\n",
      " 58  inq_last_12m                1369566 non-null  float64\n",
      " 59  acc_open_past_24mths        1369566 non-null  float64\n",
      " 60  avg_cur_bal                 1369566 non-null  float64\n",
      " 61  bc_open_to_buy              1369566 non-null  float64\n",
      " 62  bc_util                     1369566 non-null  float64\n",
      " 63  chargeoff_within_12_mths    1369566 non-null  float64\n",
      " 64  delinq_amnt                 1369566 non-null  float64\n",
      " 65  mo_sin_old_il_acct          1369566 non-null  float64\n",
      " 66  mo_sin_old_rev_tl_op        1369566 non-null  float64\n",
      " 67  mo_sin_rcnt_rev_tl_op       1369566 non-null  float64\n",
      " 68  mo_sin_rcnt_tl              1369566 non-null  float64\n",
      " 69  mort_acc                    1369566 non-null  float64\n",
      " 70  mths_since_recent_bc        1369566 non-null  float64\n",
      " 71  mths_since_recent_inq       1369566 non-null  float64\n",
      " 72  num_accts_ever_120_pd       1369566 non-null  float64\n",
      " 73  num_actv_bc_tl              1369566 non-null  float64\n",
      " 74  num_actv_rev_tl             1369566 non-null  float64\n",
      " 75  num_bc_sats                 1369566 non-null  float64\n",
      " 76  num_bc_tl                   1369566 non-null  float64\n",
      " 77  num_il_tl                   1369566 non-null  float64\n",
      " 78  num_op_rev_tl               1369566 non-null  float64\n",
      " 79  num_rev_accts               1369566 non-null  float64\n",
      " 80  num_rev_tl_bal_gt_0         1369566 non-null  float64\n",
      " 81  num_sats                    1369566 non-null  float64\n",
      " 82  num_tl_120dpd_2m            1369566 non-null  float64\n",
      " 83  num_tl_30dpd                1369566 non-null  float64\n",
      " 84  num_tl_90g_dpd_24m          1369566 non-null  float64\n",
      " 85  num_tl_op_past_12m          1369566 non-null  float64\n",
      " 86  pct_tl_nvr_dlq              1369566 non-null  float64\n",
      " 87  percent_bc_gt_75            1369566 non-null  float64\n",
      " 88  pub_rec_bankruptcies        1369566 non-null  float64\n",
      " 89  disbursement_method         1369566 non-null  float64\n",
      " 90  issue_d_year                1369566 non-null  float64\n",
      " 91  issue_d_month               1369566 non-null  float64\n",
      " 92  last_pymnt_d_year           1369566 non-null  float64\n",
      " 93  last_pymnt_d_month          1369566 non-null  float64\n",
      " 94  last_credit_pull_d_year     1369566 non-null  float64\n",
      " 95  last_credit_pull_d_month    1369566 non-null  float64\n",
      " 96  default                     1369566 non-null  float64\n",
      "dtypes: float64(97)\n",
      "memory usage: 1024.0 MB\n",
      "Information about the data frame : None\n",
      "===================================================\n",
      "The data types of columns of data frame loan_amnt                   float64\n",
      "funded_amnt                 float64\n",
      "funded_amnt_inv             float64\n",
      "term                        float64\n",
      "int_rate                    float64\n",
      "                             ...   \n",
      "last_pymnt_d_year           float64\n",
      "last_pymnt_d_month          float64\n",
      "last_credit_pull_d_year     float64\n",
      "last_credit_pull_d_month    float64\n",
      "default                     float64\n",
      "Length: 97, dtype: object\n"
     ]
    }
   ],
   "source": [
    "print(\"Shape of the data frame :\",df_cleaned.shape)\n",
    "print(\"===================================================\")\n",
    "print(\"Information about the data frame :\",df_cleaned.info())\n",
    "print(\"===================================================\")\n",
    "print(\"The data types of columns of data frame\",df_cleaned.dtypes)"
   ]
  },
  {
   "cell_type": "code",
   "execution_count": 85,
   "metadata": {},
   "outputs": [
    {
     "data": {
      "text/plain": [
       "loan_status\n",
       "0.0    1101007\n",
       "1.0     268559\n",
       "Name: count, dtype: int64"
      ]
     },
     "execution_count": 85,
     "metadata": {},
     "output_type": "execute_result"
    }
   ],
   "source": [
    "df_cleaned['loan_status'].value_counts()\n",
    "\n"
   ]
  },
  {
   "cell_type": "code",
   "execution_count": 86,
   "metadata": {},
   "outputs": [
    {
     "name": "stdout",
     "output_type": "stream",
     "text": [
      "Shape: (1369566, 97)\n"
     ]
    }
   ],
   "source": [
    "print(\"Shape:\", df_cleaned.shape)\n",
    "# 可保存处理后的数据\n",
    "df_cleaned.to_csv('data/lendingclub_cleaned.csv', index=False)"
   ]
  }
 ],
 "metadata": {
  "kernelspec": {
   "display_name": "base",
   "language": "python",
   "name": "python3"
  },
  "language_info": {
   "codemirror_mode": {
    "name": "ipython",
    "version": 3
   },
   "file_extension": ".py",
   "mimetype": "text/x-python",
   "name": "python",
   "nbconvert_exporter": "python",
   "pygments_lexer": "ipython3",
   "version": "3.12.2"
  }
 },
 "nbformat": 4,
 "nbformat_minor": 2
}
